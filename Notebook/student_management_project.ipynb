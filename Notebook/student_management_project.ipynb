{
 "cells": [
  {
   "cell_type": "markdown",
   "id": "246ce8c6-170a-4c77-87af-575cd48e627e",
   "metadata": {},
   "source": [
    "# ***Model 2 Project 1 To-Do List App (Console Version)***"
   ]
  },
  {
   "cell_type": "code",
   "execution_count": null,
   "id": "d67f55ff-b22a-4a19-9afc-387457fde6ee",
   "metadata": {},
   "outputs": [],
   "source": [
    "coordinates = [78.652398,88.345565],[09.455940,78.434939],[45.898472,58.485783]\n",
    "locations = [coordinates]\n",
    "while True:\n",
    "    a = input(\"do you want to add coordinates:,yes,no\")\n",
    "    if a.lower() == \"yes\":\n",
    "         try:  \n",
    "            b = input(\"Type your coordinates (latitude,longitude): \")  \n",
    "            latitude, longitude = map(float, b.split(','))\n",
    "            locations.append([latitude, longitude]) \n",
    "            print(\"Coordinates added.\") \n",
    "         except ValueError:\n",
    "             print(\"Invalid coordinates format.Please enter two numbers seperated by comma\")\n",
    "    elif a.lower() == \"no\":\n",
    "        print(locations)\n",
    "        break\n",
    "    else:\n",
    "      print(\"You did not choose the right option\")\n",
    "    "
   ]
  },
  {
   "cell_type": "markdown",
   "id": "70e157f4-fedd-4332-9942-8e149658753a",
   "metadata": {},
   "source": [
    "# ***Project 2 GPS Coordinate Locker***"
   ]
  },
  {
   "cell_type": "code",
   "execution_count": null,
   "id": "227ca7e9-008d-44dc-a24e-d4c8589b5ef4",
   "metadata": {},
   "outputs": [],
   "source": [
    "tasks = []\n",
    "while True:\n",
    "    a = input(\"What do you want to do? Add,remove,view tasks,exit\")\n",
    "    if a.lower() == \"add\":\n",
    "        b = input(\"What do you want to add:\")\n",
    "        tasks.append(b)\n",
    "        print(\"task added\")\n",
    "    elif a.lower() == \"remove\":\n",
    "        print(tasks)\n",
    "        c = input(\"What do you want to remove:\")\n",
    "        if c in tasks:\n",
    "            tasks.remove(c)\n",
    "        else:\n",
    "            print(\"task is not in the list\")\n",
    "            print(\"task removed\")\n",
    "    elif a.lower() ==\"view\":\n",
    "        print(tasks)\n",
    "    elif a.lower() == \"exit\":\n",
    "        print(\"Final tasks list:\",tasks)\n",
    "        break\n",
    "    else:\n",
    "        print(\"You didn't choose the correct option\")"
   ]
  },
  {
   "cell_type": "markdown",
   "id": "db6b17fd-b782-4f82-b882-98d9195b89f2",
   "metadata": {},
   "source": [
    "# ***Project 3 Digital Phonebook***"
   ]
  },
  {
   "cell_type": "code",
   "execution_count": null,
   "id": "922a2656-ee6d-4bfc-9ac8-756ad66a10da",
   "metadata": {},
   "outputs": [],
   "source": [
    "contacts = {}\n",
    "while True:\n",
    "    a = input(\"what do you want to do: add,delete,search contact, exit\")\n",
    "    if a.lower() == \"add\":\n",
    "        b = input(\"type the name of the contact \")\n",
    "        c = input(\"what do you want to add: (phone no. , email)\")\n",
    "        if c.lower() == \"phone no.\":\n",
    "            d = input(\"type phone number\")\n",
    "            contacts[b] = d\n",
    "            print(contacts)\n",
    "        elif c.lower() == \"email\":\n",
    "            d = input(\"type email id\")\n",
    "            contacts[b] = d\n",
    "            print(contacts)\n",
    "        else:\n",
    "            print(\"you typed the wrong info\")\n",
    "    elif a.lower() == \"delete\":\n",
    "        print(contacts)\n",
    "        e = input(\"what do you want to delete: \")\n",
    "        del contacts[e]\n",
    "        print(contacts)\n",
    "    elif a.lower() ==\"search\":\n",
    "        print(contacts)\n",
    "        f = input(\"what contact do you want to search\")\n",
    "        contact_info = contacts.get(f)\n",
    "        if contact_info:\n",
    "            print(f\"contact found: {f}:{contacts[f]}\")\n",
    "        else:\n",
    "            print(\"contact not found\")\n",
    "    elif a.lower() == \"exit\":\n",
    "        print(contacts)\n",
    "        break\n",
    "    else:\n",
    "        print(\"you did not choose the right option\")"
   ]
  },
  {
   "cell_type": "markdown",
   "id": "027fb416-b69d-49ac-8d5d-f35849ba663c",
   "metadata": {},
   "source": [
    "# ***Project 4 Duplicate Buster***"
   ]
  },
  {
   "cell_type": "code",
   "execution_count": null,
   "id": "2864e00d-37eb-46c0-af4d-70be0c8d96ba",
   "metadata": {},
   "outputs": [],
   "source": [
    "names = []\n",
    "while True:\n",
    "    y = input(\"type names(1 name at a time) or 'exit'\")\n",
    "    if y == \"exit\":\n",
    "        z = set(names)\n",
    "        print(z)\n",
    "        break\n",
    "    else:\n",
    "         names.append(y)\n",
    "         print(names)"
   ]
  },
  {
   "cell_type": "markdown",
   "id": "139af423-b299-4a34-b8b4-f33d9ba41da7",
   "metadata": {},
   "source": [
    "# ***Project 5 Mini Student Management System***"
   ]
  },
  {
   "cell_type": "code",
   "execution_count": null,
   "id": "c93509d9-6383-4ea2-bda7-f379f05b1c79",
   "metadata": {},
   "outputs": [],
   "source": [
    "students = {}\n",
    "while True:\n",
    "    a = input(\"Do you want to add student details: (Yes, NO) or Do you want to: (update grades or update courses) or Do you want to (delete) student\")\n",
    "    if a.lower() == \"yes\":\n",
    "        name = input(\"name of the student\")\n",
    "        marks = input(\"marks of the student\")\n",
    "        marks_list = [int(mark.strip()) for mark in marks.split(\",\")]\n",
    "        courses = input(\"courses of the student\")\n",
    "        course_tuple = tuple(course.strip() for course in courses.split(','))\n",
    "        b = students[name] = {\"Grades\":[marks_list],\"Courses\":(course_tuple)}\n",
    "        print(students)\n",
    "    elif a.lower() == \"no\":\n",
    "        print(students)\n",
    "    elif a.lower() == \"update marks\":\n",
    "        e = input(\"name the student you want to update marks\")\n",
    "        c = students.get(e)\n",
    "        if c:\n",
    "            f = input(\"Type the updated marks (comma separated): \")\n",
    "            new_marks = [float(mark.strip()) for mark in f.split(\",\")]\n",
    "            c[\"Grades\"] = new_marks  \n",
    "            print(\"Marks updated!\")\n",
    "            print(students)\n",
    "        else:\n",
    "            print(\"Student not found\")\n",
    "    elif a.lower() == \"update courses\":\n",
    "         e = input(\"name the student you want to update course\")\n",
    "         d = students.get(e)\n",
    "         if d:\n",
    "             g = input(\"Type the updated courses (comma separated): \")\n",
    "             new_courses = [tuple(course.strip() for course in g.split(\",\"))]\n",
    "             d[\"Courses\"] = new_courses  \n",
    "             print(\"Courses updated!\")\n",
    "             print(students)\n",
    "         else:\n",
    "             print(\"Student not found\")\n",
    "    elif a.lower() == \"delete\":\n",
    "        print(students)\n",
    "        x = input(\"Who do you want to delete\")\n",
    "        if x in students:\n",
    "            del students[x]\n",
    "            print(f\"Student {x} deleted\")\n",
    "        else:\n",
    "            print(\"student not found\")\n",
    "    elif a.lower() == \"unique courses\":  \n",
    "        unique_courses = set()\n",
    "        for student_data in students.values():  \n",
    "            courses = student_data[\"Courses\"]   \n",
    "            unique_courses.update(courses)  \n",
    "        print(\"Unique courses:\", unique_courses)  \n",
    "    elif a.lower() == \"exit\":\n",
    "        print(students)\n",
    "        break\n",
    "else:\n",
    "    print(\"invalid input please type yes,no,update marks or update course\")"
   ]
  },
  {
   "cell_type": "code",
   "execution_count": null,
   "id": "f2622ab1-c658-404c-95f1-5a2246889103",
   "metadata": {},
   "outputs": [],
   "source": []
  }
 ],
 "metadata": {
  "kernelspec": {
   "display_name": "anaconda-2024.02-py310",
   "language": "python",
   "name": "conda-env-anaconda-2024.02-py310-py"
  },
  "language_info": {
   "codemirror_mode": {
    "name": "ipython",
    "version": 3
   },
   "file_extension": ".py",
   "mimetype": "text/x-python",
   "name": "python",
   "nbconvert_exporter": "python",
   "pygments_lexer": "ipython3",
   "version": "3.10.14"
  }
 },
 "nbformat": 4,
 "nbformat_minor": 5
}
